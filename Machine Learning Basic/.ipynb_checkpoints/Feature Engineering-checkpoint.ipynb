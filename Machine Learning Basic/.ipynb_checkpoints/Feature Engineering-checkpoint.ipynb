{
 "cells": [
  {
   "cell_type": "markdown",
   "metadata": {},
   "source": [
    "# What is the Feature Engineering?\n",
    "\n",
    "Trong bài toán machine learning chung thì để có thể áp dụng được các bài toán với nhiệm vụ phân loại ( phân loại chó mèo), hay hồi quy ( dự đoán giá nhà). Thì chúng ta cần mô tả những dữ liệu thực tế thành dữ liệu máy tính có thể hiểu được đó là các dạng dữ liệu int, float vvvv.\n",
    "\n",
    "![](https://cdn-images-1.medium.com/max/800/1*ZX05x1xYgaVoa4Vn2kKS9g.png)"
   ]
  },
  {
   "cell_type": "markdown",
   "metadata": {},
   "source": [
    "Trong bài này chúng ta sẽ giới hạn lại trong bài toán áp dụng machine learning. Còn deep learning là một nhánh của machine learning chúng ta sẽ khám phá sau.\n",
    "\n",
    "Về cơ bản mỗi sự vật hiện tượng bên ngoài đời sống thực mà muốn cho máy tính hiểu được cần phải có sự biểu diễn dạng dữ liệu khác như con số, chữ viết,vvv.. Chẳng hạn như con cho có hình dạng khác con mèo theo qua sát bằng mắt người nhưng máy tính không thể nhìn như vậy được, mà nó nhìn thông qua thuộc tính mà con người ta định nghĩa cho con chó và mèo. C\n",
    "\n",
    "Qúa trình mà chúng ta rút trích các đặc điểm và mã hóa nó thành các vector để cho máy tính hiểu được là bước feature extraction. \n",
    "\n",
    "Qúa trình đó có thể gồm nhiều công việc chẳng hạn muốn xây dựng một mô hình học máy phân biệt nam và nữ. Thì bước đầu là trích đặc trưng\n",
    "\n",
    "Ta tháy nam có ít tóc hơn nữ, nên ta đếm xem số pixel có màu đen ảnh nào nhiều hơn => đó là nữ, và ngược lại. Trên thực tế để có thể nhận diện, phân loại chính xác chúng ta sử dụng đến nhiều các đặc trưng kết hợp với nhau thì mới xác định như nó có thể tập các thuộc tính như: \n",
    "\n",
    "+ Cao trên 1m7 (yes/no)\n",
    "+ Năm trên 60kg (yes/no)\n",
    "+ Tóc ngắn (yes/no)\n",
    "\n",
    "Từ tập thuộc tính ta phải mô tả nó dạng số học logic bằng kiểu dữ liệu mà máy hiểu được chẳng hạn một người cao 1m6 nặng 70 kg và tóc dài ta được vector đặc trưng:\n",
    "\n",
    "x = [0 1 1] \n",
    "\n",
    "Qúa trình này gọi là rút trích đặc trưng.\n",
    "\n",
    "Vậy thì rút đặc trưng thì có cách nào chung hay không, có quy chuẩn nào không..\n",
    "\n",
    "Về cơ bản nó không có quy chuẩn nào cả, đôi sự phát hiện của bạn đem đến giá trị cho cả một mô hình. Với loại dữ liệu khác nhau thì có nhưng các rút đặc trưng khác nhau, và không loại nào giống nào nào. Không thể áp dụng lấy đặc trưng ảnh cho text hay âm thanh và ngược lại.\n",
    "\n",
    "Chúng ta sẽ đi khám phá về trích đặc trưng của các loại dữ liệu gồm ảnh, text, âm thanh. Trước hết do những vấn đề thời gian cũng như điều kiện phạm vi kiến thức, tối chỉ mới có thể viết về đặc trưng ảnh, tôi sẽ update chúng sau trong khi tôi hoàn thiện kiến thức bản thân.\n",
    "\n"
   ]
  },
  {
   "cell_type": "markdown",
   "metadata": {},
   "source": [
    "### Phần 1: Các đặc trưng hình ảnh, và rút trích đặc trưng hình ảnh.\n",
    "\n",
    "Thứ nhất trước khi đi vào giải thích các đặc trưng ảnh thì chúng ta khám phá, ảnh được mô tả như thế nào, được cấu thành ra sao trong máy tính.\n",
    "\n",
    "Phạm vi tôi nói ở đây là ảnh số là ảnh trong thường ngày chúng ta bắt gặp trên instagram, facebook, youtube... Về cơ bản nó được cấu thành từ các pixel.\n",
    "\n",
    "Đến đấy chúng ta sẽ biết được ảnh có nhiều pixel trên một diện tích thì ảnh sắc nét hơn, so với ảnh có ít pixel hơn. Do khi ảnh ít pixel hơn thì để đảm bảo đủ diện tích thì các pixel ấy có kích thước lớn, khiến chung ta thấy được cả những hình vuông pixel, còn khi pixel nhỏ thì cảm giác mềm mịn hơn.\n",
    "\n",
    "![](https://bietmaytinh.com/wp-content/uploads/2018/01/pixel-art-ve-tranh-diem-anh.png)\n",
    "\n",
    "Hình minh họa"
   ]
  },
  {
   "cell_type": "markdown",
   "metadata": {},
   "source": [
    "Chính bởi cấu thành từ các pixel nên mà các bài toán, các thuật toán trích đặc trưng ảnh dựa vào pixel để giúp tìm ra những đặc trưng trên ảnh.\n",
    "\n",
    "Và mỗi pixel ấy có một giá trị, tùy vào kênh màu, miền biển diễn giá trị đó có thể khác nhau. Như ảnh mức xám thì từng pixel có giá trị từ 0-255 biểu thị mức xám biểu diễn của pixel đó. \n"
   ]
  },
  {
   "cell_type": "code",
   "execution_count": null,
   "metadata": {},
   "outputs": [],
   "source": [
    "import matplotlib.pyplot as plt\n",
    "import matplotlib.image as mpimg\n",
    "img = mpimg.imread('images/test.jpg')\n",
    "print(img)"
   ]
  },
  {
   "cell_type": "markdown",
   "metadata": {},
   "source": [
    "Quan sát thực tế chúng ta tháy rằng con người ta phân biệt được các ảnh với nhau, hay biết nội dung trong ảnh với nhau thì do các yếu tố: Tôi sẽ phân tích theo giai đoạn phát triển của bạn.\n",
    "\n",
    "+ Khi bạn còn nhỏ:\n",
    "\n",
    "Bạn nhìn thế giới đơn giản lắm bố mẹ bạn chỉ cho bạn con thỏ trắng, quả cam màu vàng. Hay quả trứng tròn, dài quả mướp ....\n",
    "\n",
    "Đó là sự tiếp thu của bạn về thời giới này thông qua màu sắc kết hợp hình ảnh để phân biệt nó. Đó là 2 đặc trưng cơ bản của hình ảnh mà chúng ta nhìn được.\n",
    "\n",
    "+ Khi bạn lớn hơn:\n",
    "\n",
    "Bạn biết được nhiều thứ hơn bạn được bố mẹ cho đi nhiều nơi hơn bạn biết nhiều hơn các kiến thức và bạn biết rằng có nhiều quả có màu sắc giống nhau, có hình dạng giống nhau nhưng lại không phải là 1 quả do mùi vị, do kích thước. Chẳng hạn quả chanh và quả cam đều có hình tròn và vỏ có màu xanh nhưng lại 2 quả khác nhau do vị hai quả khác nhau, kích thước khác nhau.\n",
    "\n",
    "Như vậy bạn nhìn nhận một thứ bằng nhiều yếu tố hơn rồi.\n",
    "\n",
    "+ Khi bạn có nhận thức nhiều hơn:\n",
    "\n",
    "Bạn phân biệt được người với nhau thông quá những đặc điểm góc cạnh trên khuôn mặt, thâm chí 2 ae sinh đôi bạn nhận ra được, có thể 1 ngày 2 ngày vẫn nhầm nhưng học với nhau cả 5 năm cấp 1 thì có lẻ bạn đã phân biệt một cách chính xác đâu ra a đâu là e. Đó là sự nhìn nhận sự chi tiết nhỏ.\n",
    "\n",
    "Trong xử lí ảnh cũng vậy chúng ta có thể làm cho máy tính hiểu được và nhận biết được con người, thì phải cho nó học từ những thuộc tính như vậy, một ít một ít một và kết hợp các loại thuộc tính với nhau. Từ đó nhìn nhận ra đặc trưng hình ảnh bao gồm:\n",
    "\n",
    "* MÀU SẮC.\n",
    "* HÌNH DẠNG TỔNG THỂ.\n",
    "* KÍCH THƯỚC.\n",
    "* CHI TIẾT CÁC CẠNH, GÓC. ( KẾT CẤU)\n",
    "* MÙI VỊ KHÓ CÓ THỂ BIỂU DIỄN ĐƯỢC CHO MÁY TÍNH.\n",
    "\n",
    "Đến đây tôi rút ra một câu tôi khá tâm đắc:\n",
    "\n",
    "\"Máy tính là một đứa trẻ không hơn không kém và chúng ta muốn nó giỏi thì chúng ta phải cho nó học, và nó cần người thầy là chúng ta\". (NgocTuHan)\n",
    "\n",
    "\"Máy tính là thiên tài tính toán nhưng chúng lại không biết làm gì cả nếu không có ai đó hướng dẫn\".\n",
    "\n",
    "\"Một đứa trẻ như chiếc máy tính nó không phân biệt được đúng sai nếu không ai dạy nó\".\n",
    "(ngoctuhan)\n",
    "\n"
   ]
  },
  {
   "cell_type": "markdown",
   "metadata": {},
   "source": [
    "#### Các kĩ thuật rút trích đặc trưng liên quan màu sắc\n",
    "\n",
    "Tôi yêu các sắc màu, chung là một thứ tuyệt diệu. Đôi khi thêm chút xanh thêm chút đỏ là ra màu mới nó kì diệu chỉ với 3 màu RGB chúng ta có hàng triệu màu sắc khác nhau. Cụ thể là 255 * 255 * 255 = 16 tr màu ui thật vi diệu phải không.\n",
    "\n",
    "Về cơ bản màu sắc là sự pha trộn của các màu sắc cơ bản:\n",
    "\n",
    "Chẳng hạn như kênh màu RGB gồm 3 màu chính: red, green, blue sự điểu phối giao hòa 3 màu này đã tạo nên nhiều nhiều màu khác.\n",
    "\n"
   ]
  },
  {
   "cell_type": "code",
   "execution_count": 1,
   "metadata": {},
   "outputs": [
    {
     "data": {
      "text/plain": [
       "array([60, 58, 64], dtype=uint8)"
      ]
     },
     "execution_count": 1,
     "metadata": {},
     "output_type": "execute_result"
    }
   ],
   "source": [
    "import cv2\n",
    "img = cv2.imread('images/test.jpg')\n",
    "img[0, 0, :]"
   ]
  },
  {
   "cell_type": "markdown",
   "metadata": {},
   "source": [
    "1. Miền giá trị màu\n",
    "\n",
    "Từ quan sát thực tế chúng ta sẽ có tri thức màu sắc thực tế mà được biểu diễn trong máy tính.\n",
    "\n",
    "<!-- ![](http://www.friendlyarcticprinting.com/wp-content/uploads/2020/02/1-Color-Chart-2019-Andy_reorganization.jpg) -->\n",
    "\n",
    "![](https://www.researchgate.net/profile/Penerbit_Akademia_Baru/publication/330838912/figure/tbl1/AS:722108392943617@1549175465675/The-range-of-Hue-H-value-with-correspond-color.png)\n",
    "\n",
    "\n",
    "Từ đó với một vùng ảnh tức tập các pixel có màu sắc nằm trong một ngưỡng nào đó thì chúng ta quy nó là thành đối tượng.\n",
    "\n",
    "Chính lẻ đó chúng ta có thể biết được bức ảnh chúng ta có những đối tượng nào..."
   ]
  },
  {
   "cell_type": "markdown",
   "metadata": {},
   "source": [
    "2. Biểu đồ histogram \n",
    "\n",
    "Biểu đồ này là một dạng biểu đồ tần suất giúp chúng ta xác định xem là có bao nhiêu điểm ảnh ứng với một giá trị mức sáng.( cùng một mức sáng cho màu đổ nếu mức sáng càng cao thì màu đỏ càng nhạt hơn)\n",
    "\n",
    "![](images/histogram.png)\n",
    "\n",
    "![](https://www.tadpolewebworks.com/web/atomic/images/H02-HSV.jpg)\n"
   ]
  },
  {
   "cell_type": "code",
   "execution_count": 11,
   "metadata": {},
   "outputs": [
    {
     "name": "stdout",
     "output_type": "stream",
     "text": [
      "(array([0, 1, 2, 3, 4]), array([7, 4, 1, 2, 1], dtype=int64))\n",
      "[[ 58  57  57 ...  87  44  58]\n",
      " [ 63  55  54 ...  80  42  86]\n",
      " [ 64  54  52 ...  65  40  80]\n",
      " ...\n",
      " [ 50 255 242 ...  60  52  51]\n",
      " [ 54  53 255 ...  54  52  53]\n",
      " [ 55  55 255 ...  54  51  53]]\n"
     ]
    },
    {
     "data": {
      "text/plain": [
       "(array([ 38,  39,  40,  41,  42,  43,  44,  45,  46,  47,  48,  49,  50,\n",
       "         51,  52,  53,  54,  55,  56,  57,  58,  59,  60,  61,  62,  63,\n",
       "         64,  65,  66,  67,  68,  69,  70,  71,  72,  73,  74,  75,  76,\n",
       "         77,  78,  79,  80,  81,  82,  83,  84,  85,  86,  87,  88,  89,\n",
       "         90,  91,  92,  93,  94,  95,  96,  97,  98,  99, 100, 101, 102,\n",
       "        103, 104, 105, 106, 107, 108, 109, 110, 111, 112, 113, 114, 115,\n",
       "        116, 117, 118, 119, 120, 121, 122, 123, 124, 125, 126, 127, 128,\n",
       "        129, 130, 131, 132, 133, 134, 135, 136, 137, 138, 139, 140, 141,\n",
       "        142, 143, 144, 145, 146, 147, 148, 149, 150, 151, 152, 153, 154,\n",
       "        155, 156, 157, 158, 159, 160, 161, 162, 163, 164, 165, 166, 167,\n",
       "        168, 169, 170, 171, 172, 173, 174, 175, 176, 177, 178, 179, 180,\n",
       "        181, 182, 183, 184, 185, 186, 187, 188, 189, 190, 191, 192, 193,\n",
       "        194, 195, 196, 197, 198, 199, 200, 201, 202, 203, 204, 205, 206,\n",
       "        207, 208, 209, 210, 226, 242, 254, 255], dtype=uint8),\n",
       " array([ 13,  76, 146, 121, 143, 177, 149, 149, 160, 158, 165, 175, 140,\n",
       "        176, 128, 164, 151, 159, 147, 164, 161, 156, 191, 183, 177, 174,\n",
       "        175, 185, 170, 211, 183, 190, 207, 223, 243, 220, 213, 208, 232,\n",
       "        232, 214, 188, 164, 201, 175, 163, 166, 188, 181, 167, 155, 164,\n",
       "        143, 137, 139, 143, 135, 116, 140, 142, 145, 111, 117, 114, 114,\n",
       "        137, 154, 141, 110, 129, 128, 154, 151, 186, 176, 221, 182, 185,\n",
       "        135, 172, 181, 145, 143, 123, 114, 111, 115,  88, 101,  85,  92,\n",
       "         94,  89,  72,  66,  65,  50,  42,  49,  37,  38,  45,  44,  24,\n",
       "         48,  40,  35,  44,  51,  44,  45,  29,  45,  44,  35,  36,  52,\n",
       "         36,  44,  34,  28,  34,  29,  37,  34,  29,  39,  34,  30,  29,\n",
       "         20,  27,  21,  19,  28,  14,  16,  11,  11,  12,  10,   7,  10,\n",
       "         14,  18,   7,  11,  10,   8,  10,   7,  14,   8,   3,   6,   5,\n",
       "          4,   2,   3,  10,   4,   2,   2,   6,   6,   2,   4,   7,   2,\n",
       "          1,   2,   1,   3,   1,   1,   2,  16], dtype=int64))"
      ]
     },
     "execution_count": 11,
     "metadata": {},
     "output_type": "execute_result"
    }
   ],
   "source": [
    "import numpy as np\n",
    "def cal_histogram(input): # input ma trix have shape = w * h\n",
    "    \n",
    "    unique, counts = np.unique(input, return_counts=True)\n",
    "    return unique, counts\n",
    "    \n",
    "a = np.array([0, 3, 0, 1, 0, 1, 2, 1, 0, 0, 0, 0, 1, 3, 4])\n",
    "\n",
    "print(cal_histogram(a))\n",
    "\n",
    "img = cv2.imread('images/test.jpg', 0)\n",
    "img = cv2.resize(img, (128,128))\n",
    "print(img)\n",
    "cal_histogram(img)"
   ]
  },
  {
   "cell_type": "markdown",
   "metadata": {},
   "source": [
    "3. Mở rộng nghiên cứu (giải pháp của tôi)\n",
    "\n",
    "Trong hai thuật toán trên chúng ta mới biết được ảnh đó có những nhóm màu nào, phân bố màu đó như thế nào, chưa có cách nào biểu diễn vị trí của màu đó theo vị trí ảnh. \n",
    "\n",
    "Chẳng hạn một ảnh chụp trời mây thì vùng trời năm phía trên của ảnh và núi thì phần phía trên là trời có màu xanh, dưới trời có thể núi màu xanh khác tối hơn ...\n",
    "\n",
    "Vậy chúng ta cần một phương pháp để xác định các khu vực màu và và vị trí tương quan của nó trong ảnh. \n",
    "\n",
    "Giair pháp của tôi là:\n",
    "\n",
    "Chia hình ảnh thành một lưới các ô các kích thước 4 x 3\n",
    "\n",
    "![](images/grid.png)\n",
    "\n",
    "Một tập các luật được được sinh ra bằng việc định nghĩa sẵn:\n",
    "\n",
    "IF RANGE_COLOR () THEN RIVER\n",
    "IF RANGE_COLOR () THEN SKY\n",
    "IF RANGE_COLOR () THEN HILL\n",
    "\n",
    "Một vector đặc trưng có dạng 12 * n_object \n",
    "\n",
    "[trời, biển, núi, sống, mấy, rừng, ao, sông]\n",
    "\n",
    "Giá trị trong vetor biểu diễn là 0 hoặc 1.\n",
    "\n",
    "Chẳng hạn ô đầu tiên: có range thuộc màu trời, biển.\n",
    "\n",
    "Thì tương tứng ta có vector mã hóa ô đầu tiên:\n",
    "\n",
    "g1 = [ 1, 1, 0, 0, 0, 0, 0, 0 ]\n",
    "\n",
    "Tương tự 1 hình ảnh có 12 giá trị mã hóa cho 12 ô. \n",
    "\n",
    "Như vậy 1 hình ảnh chuyển hóa thành vector 12 * n_object.\n",
    "\n",
    "Một độ độ được áp dụng để so sánh hai hình ảnh. \n",
    "\n",
    "Độ đo đó được xác định bằng cách:\n",
    "\n",
    "<Chưa nghĩ ra khi nào ra tôi sẽ hoàn thiện nó.> Các bạn có đề xuất có thể giúp tôi hoàn thiện nó.\n",
    "\n"
   ]
  },
  {
   "cell_type": "markdown",
   "metadata": {},
   "source": [
    "4. Độ đo tương tự màu sắc\n",
    "\n",
    "Như thuật toán 1 và thuật toán 2 thì cần có một thước đo so sánh các vector được rút trích xa. Chúng ta áp dụng Khoảng cách Ơclit:\n",
    "\n",
    "Đọc nó tại: https://vi.wikipedia.org/wiki/Kho%E1%BA%A3ng_c%C3%A1ch_Euclid"
   ]
  },
  {
   "cell_type": "markdown",
   "metadata": {},
   "source": [
    "#### Các cách trích đặc trưng hình dạng cho hình ảnh \n",
    "\n",
    "Khác với màu sắc là cái nhìn toàn cục trên bức ảnh, còn hình dạng thì không, hình dạng không là thuộc tính của hình ảnh mà là đặc tính để xác định một khu vực hoặc một đối tượng trong bức ảnh. \n",
    "\n",
    "Có 2 cách biểu diễn hình ảnh của bức ảnh:\n",
    "\n",
    "* Biểu diễn hình dạng bằng các đường biên bao quanh đối tượng (ảnh biên)\n",
    "* Biển diễn hình dạng bằng một vùng toàn vẹn.\n",
    "\n",
    "Trong giới hạn này tôi sẽ trình bày 2 thuật toán mà tôi cảm thấy ổn: Canny Edge Detection và Gradients, HOG\n",
    "\n",
    "Sự thay đổi đột ngột mức xám cho ta biết đó là biên.\n",
    "\n",
    "1. Canny Edge Detection\n",
    "\n",
    "Các bước thực hiện:\n",
    "\n",
    "* Lọc nhiễu:\n",
    "\n",
    "Do phát hiện cạnh dễ bị nhiễu trong ảnh, bước đầu tiên là loại bỏ nhiễu trong ảnh bằng bộ lọc Gaussian 5x5. \n",
    "\n",
    "* Tìm cường độ Gradient của hình ảnh\n",
    "\n",
    "Hình ảnh được làm mịn sau đó được lọc bằng hạt nhân Sobel theo cả hai chiều ngang và dọc để có được đạo hàm đầu tiên theo hướng ngang $(G_x)$ và hướng dọc $(G_y)$. Từ hai hình ảnh này, chúng ta có thể tìm thấy độ dốc và hướng của từng pixel như sau:\n",
    "\n",
    "![](images/gradient.jpg)\n",
    "\n",
    "![](https://opencv-python-tutroals.readthedocs.io/en/latest/_images/math/fc9752466c9c38d07985d62e86946489e23c61e2.png)\n",
    "\n",
    "\n",
    "Hướng dốc luôn vuông góc với các cạnh.\n",
    "\n",
    "* Ức chế không tối đa\n",
    "\n",
    "Ở bước này, ta dùng một filter 3x3 lần lượt chạy qua các pixel trên ảnh gradient. Trong quá trình lọc, ta xem xét xem độ lớn gradient của pixel trung tâm có phải là cực đại (lớn nhất trong cục bộ - local maximum) so với các gradient ở các pixel xung quanh. Nếu là cực đại, ta sẽ ghi nhận sẽ giữ pixel đó lại. Còn nếu pixel tại đó không phải là cực đại lân cận, ta sẽ set độ lớn gradient của nó về zero. Ta chỉ so sánh pixel trung tâm với 2 pixel lân cận theo hướng gradient. Ví dụ: nếu hướng gradient đang là 0 độ, ta sẽ so pixel trung tâm với pixel liền trái và liền phải nó. Trường hợp khác nếu hướng gradient là 45 độ, ta sẽ so sánh với 2 pixel hàng xóm là góc trên bên phải và góc dưới bên trái của pixel trung tâm. Tương tự cho 2 trường hợp hướng gradient còn lại. Kết thúc bước này ta được một mặt nạ nhị phân.\n",
    "\n",
    "![](https://firebasestorage.googleapis.com/v0/b/minh-nguyen-blog.appspot.com/o/post-images%2Fopencv%2Fnms.jpg?alt=media&token=48e544e7-a7a1-49f6-8f5b-580aea1c8f44)\n",
    "\n",
    "* Lọc ngưỡng: ta sẽ xét các pixel dương trên mặt nạ nhị phân kết quả của bước trước. Nếu giá trị gradient vượt ngưỡng max_val thì pixel đó chắc chắn là cạnh. Các pixel có độ lớn gradient nhỏ hơn ngưỡng min_val sẽ bị loại bỏ. Còn các pixel nằm trong khoảng 2 ngưỡng trên sẽ được xem xét rằng nó có nằm liên kề với những pixel được cho là \"chắc chắn là cạnh\" hay không. Nếu liền kề thì ta giữ, còn không liền kề bất cứ pixel cạnh nào thì ta loại. Sau bước này ta có thể áp dụng thêm bước hậu xử lý loại bỏ nhiễu (tức những pixel cạnh rời rạc hay cạnh ngắn) nếu muốn.\n"
   ]
  },
  {
   "cell_type": "code",
   "execution_count": 15,
   "metadata": {},
   "outputs": [
    {
     "data": {
      "image/png": "[encoded data removed]",
      "text/plain": [
       "<Figure size 432x288 with 2 Axes>"
      ]
     },
     "metadata": {},
     "output_type": "display_data"
    }
   ],
   "source": [
    "# Demo:\n",
    "\n",
    "import cv2\n",
    "import numpy as np\n",
    "from matplotlib import pyplot as plt\n",
    "\n",
    "img = cv2.imread('images/test2.jpg',0)\n",
    "edges = cv2.Canny(img,50,200)\n",
    "\n",
    "plt.subplot(121),plt.imshow(img,cmap = 'gray')\n",
    "plt.title('Original Image'), plt.xticks([]), plt.yticks([])\n",
    "plt.subplot(122),plt.imshow(edges,cmap = 'gray')\n",
    "plt.title('Edge Image'), plt.xticks([]), plt.yticks([])\n",
    "\n",
    "plt.show()\n"
   ]
  },
  {
   "cell_type": "markdown",
   "metadata": {},
   "source": [
    "2. Histogram of Oriented Gradients (HOG)\n",
    "\n",
    "Đôi nét giới thiệu HOG là đặc trưng mạnh mẽ về hình dạng nó từng cùng với SVM + NMS tạo nên bộ ba đã có đóng góp lớn trong bài toán phân loại và phát hiện đối tượng trong machine learning trong thời gian dài. \n",
    "\n",
    "Đến ngày nay với sự phát triển mạnh mẽ của Deep ắt hẳn nhiều cái tên khác đã làm cho nó lu mờ theo thời gian. Nhưng với tôi khi một người học Machine Learning từ Zero tôi luôn chọn con đường từ cái đơn giản và cổ điển để phát triển mình một cách hoàn thiện nhất. \n",
    "\n",
    "Nó từng là mini project tìm khuôn mặt của tối đầu tiên tôi tự code tay: https://github.com/ngoctuhan/When-i-learn-Machine-Learning-from-Zero/tree/master/Detection%20Person%20HOG%20%2B%20SVM\n",
    "\n",
    "Đó là thứ tôi làm được đầu tiên khi học machine learning và biết gì đó về sức mạnh của AI. \n",
    "\n",
    "Các bước trích đặc trưng dựa theo HOG\n",
    "\n",
    "Bước 1: Tiền xử lí dữ liệu\n",
    "\n",
    "Thông thường trước khi được trích đặc trưng HOG thì cần khoanh vùng đối tượng thành size cố định trên mỗi đầu vào. Tức tất cả các đầu vào đều phải có kích thước như nhau.  \n",
    "\n",
    "Bước 2: Tính toán hình ảnh Gradient\n",
    "Tương tự như thuật toán phát hiện canh Canny nó thực hiện tính toán gradient theo trục Ox đề tìm biên theo trục Oy và ngược lại.\n",
    "\n",
    "Chúng được tính toán khá dễ dang bằng việc sử dụng các mặt nạ Sobel, hay Lanplace...\n",
    "\n",
    "Tiếp theo, chúng ta có thể tìm thấy cường độ và hướng của gradient bằng công thức sau:\n",
    "\n",
    "( thôi đã bảo giống Canny mà nên dẹp mẹ đi)"
   ]
  },
  {
   "cell_type": "code",
   "execution_count": 17,
   "metadata": {},
   "outputs": [
    {
     "ename": "ValueError",
     "evalue": "num must be 1 <= num <= 2, not 3",
     "output_type": "error",
     "traceback": [
      "\u001b[1;31m---------------------------------------------------------------------------\u001b[0m",
      "\u001b[1;31mValueError\u001b[0m                                Traceback (most recent call last)",
      "\u001b[1;32m<ipython-input-17-7a367111eecc>\u001b[0m in \u001b[0;36m<module>\u001b[1;34m\u001b[0m\n\u001b[0;32m     18\u001b[0m \u001b[0mplt\u001b[0m\u001b[1;33m.\u001b[0m\u001b[0msubplot\u001b[0m\u001b[1;33m(\u001b[0m\u001b[1;36m122\u001b[0m\u001b[1;33m)\u001b[0m\u001b[1;33m,\u001b[0m\u001b[0mplt\u001b[0m\u001b[1;33m.\u001b[0m\u001b[0mimshow\u001b[0m\u001b[1;33m(\u001b[0m\u001b[0mimg\u001b[0m\u001b[1;33m,\u001b[0m\u001b[0mcmap\u001b[0m \u001b[1;33m=\u001b[0m \u001b[1;34m'gray'\u001b[0m\u001b[1;33m)\u001b[0m\u001b[1;33m\u001b[0m\u001b[1;33m\u001b[0m\u001b[0m\n\u001b[0;32m     19\u001b[0m \u001b[0mplt\u001b[0m\u001b[1;33m.\u001b[0m\u001b[0mtitle\u001b[0m\u001b[1;33m(\u001b[0m\u001b[1;34m'Gradient_y'\u001b[0m\u001b[1;33m)\u001b[0m\u001b[1;33m,\u001b[0m \u001b[0mplt\u001b[0m\u001b[1;33m.\u001b[0m\u001b[0mxticks\u001b[0m\u001b[1;33m(\u001b[0m\u001b[1;33m[\u001b[0m\u001b[1;33m]\u001b[0m\u001b[1;33m)\u001b[0m\u001b[1;33m,\u001b[0m \u001b[0mplt\u001b[0m\u001b[1;33m.\u001b[0m\u001b[0myticks\u001b[0m\u001b[1;33m(\u001b[0m\u001b[1;33m[\u001b[0m\u001b[1;33m]\u001b[0m\u001b[1;33m)\u001b[0m\u001b[1;33m\u001b[0m\u001b[1;33m\u001b[0m\u001b[0m\n\u001b[1;32m---> 20\u001b[1;33m \u001b[0mplt\u001b[0m\u001b[1;33m.\u001b[0m\u001b[0msubplot\u001b[0m\u001b[1;33m(\u001b[0m\u001b[1;36m123\u001b[0m\u001b[1;33m)\u001b[0m\u001b[1;33m,\u001b[0m\u001b[0mplt\u001b[0m\u001b[1;33m.\u001b[0m\u001b[0mimshow\u001b[0m\u001b[1;33m(\u001b[0m\u001b[0mimg\u001b[0m\u001b[1;33m,\u001b[0m\u001b[0mcmap\u001b[0m \u001b[1;33m=\u001b[0m \u001b[1;34m'gray'\u001b[0m\u001b[1;33m)\u001b[0m\u001b[1;33m\u001b[0m\u001b[1;33m\u001b[0m\u001b[0m\n\u001b[0m\u001b[0;32m     21\u001b[0m \u001b[0mplt\u001b[0m\u001b[1;33m.\u001b[0m\u001b[0mtitle\u001b[0m\u001b[1;33m(\u001b[0m\u001b[1;34m'Gradient_xy'\u001b[0m\u001b[1;33m)\u001b[0m\u001b[1;33m,\u001b[0m \u001b[0mplt\u001b[0m\u001b[1;33m.\u001b[0m\u001b[0mxticks\u001b[0m\u001b[1;33m(\u001b[0m\u001b[1;33m[\u001b[0m\u001b[1;33m]\u001b[0m\u001b[1;33m)\u001b[0m\u001b[1;33m,\u001b[0m \u001b[0mplt\u001b[0m\u001b[1;33m.\u001b[0m\u001b[0myticks\u001b[0m\u001b[1;33m(\u001b[0m\u001b[1;33m[\u001b[0m\u001b[1;33m]\u001b[0m\u001b[1;33m)\u001b[0m\u001b[1;33m\u001b[0m\u001b[1;33m\u001b[0m\u001b[0m\n\u001b[0;32m     22\u001b[0m \u001b[0mplt\u001b[0m\u001b[1;33m.\u001b[0m\u001b[0mshow\u001b[0m\u001b[1;33m(\u001b[0m\u001b[1;33m)\u001b[0m\u001b[1;33m\u001b[0m\u001b[1;33m\u001b[0m\u001b[0m\n",
      "\u001b[1;32m~\\Anaconda3\\lib\\site-packages\\matplotlib\\pyplot.py\u001b[0m in \u001b[0;36msubplot\u001b[1;34m(*args, **kwargs)\u001b[0m\n\u001b[0;32m   1074\u001b[0m \u001b[1;33m\u001b[0m\u001b[0m\n\u001b[0;32m   1075\u001b[0m     \u001b[0mfig\u001b[0m \u001b[1;33m=\u001b[0m \u001b[0mgcf\u001b[0m\u001b[1;33m(\u001b[0m\u001b[1;33m)\u001b[0m\u001b[1;33m\u001b[0m\u001b[1;33m\u001b[0m\u001b[0m\n\u001b[1;32m-> 1076\u001b[1;33m     \u001b[0ma\u001b[0m \u001b[1;33m=\u001b[0m \u001b[0mfig\u001b[0m\u001b[1;33m.\u001b[0m\u001b[0madd_subplot\u001b[0m\u001b[1;33m(\u001b[0m\u001b[1;33m*\u001b[0m\u001b[0margs\u001b[0m\u001b[1;33m,\u001b[0m \u001b[1;33m**\u001b[0m\u001b[0mkwargs\u001b[0m\u001b[1;33m)\u001b[0m\u001b[1;33m\u001b[0m\u001b[1;33m\u001b[0m\u001b[0m\n\u001b[0m\u001b[0;32m   1077\u001b[0m     \u001b[0mbbox\u001b[0m \u001b[1;33m=\u001b[0m \u001b[0ma\u001b[0m\u001b[1;33m.\u001b[0m\u001b[0mbbox\u001b[0m\u001b[1;33m\u001b[0m\u001b[1;33m\u001b[0m\u001b[0m\n\u001b[0;32m   1078\u001b[0m     \u001b[0mbyebye\u001b[0m \u001b[1;33m=\u001b[0m \u001b[1;33m[\u001b[0m\u001b[1;33m]\u001b[0m\u001b[1;33m\u001b[0m\u001b[1;33m\u001b[0m\u001b[0m\n",
      "\u001b[1;32m~\\Anaconda3\\lib\\site-packages\\matplotlib\\figure.py\u001b[0m in \u001b[0;36madd_subplot\u001b[1;34m(self, *args, **kwargs)\u001b[0m\n\u001b[0;32m   1412\u001b[0m                     \u001b[0mself\u001b[0m\u001b[1;33m.\u001b[0m\u001b[0m_axstack\u001b[0m\u001b[1;33m.\u001b[0m\u001b[0mremove\u001b[0m\u001b[1;33m(\u001b[0m\u001b[0max\u001b[0m\u001b[1;33m)\u001b[0m\u001b[1;33m\u001b[0m\u001b[1;33m\u001b[0m\u001b[0m\n\u001b[0;32m   1413\u001b[0m \u001b[1;33m\u001b[0m\u001b[0m\n\u001b[1;32m-> 1414\u001b[1;33m             \u001b[0ma\u001b[0m \u001b[1;33m=\u001b[0m \u001b[0msubplot_class_factory\u001b[0m\u001b[1;33m(\u001b[0m\u001b[0mprojection_class\u001b[0m\u001b[1;33m)\u001b[0m\u001b[1;33m(\u001b[0m\u001b[0mself\u001b[0m\u001b[1;33m,\u001b[0m \u001b[1;33m*\u001b[0m\u001b[0margs\u001b[0m\u001b[1;33m,\u001b[0m \u001b[1;33m**\u001b[0m\u001b[0mkwargs\u001b[0m\u001b[1;33m)\u001b[0m\u001b[1;33m\u001b[0m\u001b[1;33m\u001b[0m\u001b[0m\n\u001b[0m\u001b[0;32m   1415\u001b[0m \u001b[1;33m\u001b[0m\u001b[0m\n\u001b[0;32m   1416\u001b[0m         \u001b[1;32mreturn\u001b[0m \u001b[0mself\u001b[0m\u001b[1;33m.\u001b[0m\u001b[0m_add_axes_internal\u001b[0m\u001b[1;33m(\u001b[0m\u001b[0mkey\u001b[0m\u001b[1;33m,\u001b[0m \u001b[0ma\u001b[0m\u001b[1;33m)\u001b[0m\u001b[1;33m\u001b[0m\u001b[1;33m\u001b[0m\u001b[0m\n",
      "\u001b[1;32m~\\Anaconda3\\lib\\site-packages\\matplotlib\\axes\\_subplots.py\u001b[0m in \u001b[0;36m__init__\u001b[1;34m(self, fig, *args, **kwargs)\u001b[0m\n\u001b[0;32m     57\u001b[0m                 \u001b[1;32mif\u001b[0m \u001b[0mnum\u001b[0m \u001b[1;33m<\u001b[0m \u001b[1;36m1\u001b[0m \u001b[1;32mor\u001b[0m \u001b[0mnum\u001b[0m \u001b[1;33m>\u001b[0m \u001b[0mrows\u001b[0m\u001b[1;33m*\u001b[0m\u001b[0mcols\u001b[0m\u001b[1;33m:\u001b[0m\u001b[1;33m\u001b[0m\u001b[1;33m\u001b[0m\u001b[0m\n\u001b[0;32m     58\u001b[0m                     raise ValueError(\n\u001b[1;32m---> 59\u001b[1;33m                         f\"num must be 1 <= num <= {rows*cols}, not {num}\")\n\u001b[0m\u001b[0;32m     60\u001b[0m                 self._subplotspec = GridSpec(\n\u001b[0;32m     61\u001b[0m                         rows, cols, figure=self.figure)[int(num) - 1]\n",
      "\u001b[1;31mValueError\u001b[0m: num must be 1 <= num <= 2, not 3"
     ]
    },
    {
     "data": {
      "image/png": "[encoded data removed]",
      "text/plain": [
       "<Figure size 432x288 with 2 Axes>"
      ]
     },
     "metadata": {},
     "output_type": "display_data"
    }
   ],
   "source": [
    "# Python gradient calculation\n",
    "# Read image\n",
    "import cv2\n",
    "import numpy as np\n",
    "from matplotlib import pyplot as plt\n",
    "\n",
    "\n",
    "img = cv2.imread('images/bolt.jpg')\n",
    "# print(img)\n",
    "img = np.float32(img) / 255.0\n",
    "# Calculate gradient\n",
    "gx = cv2.Sobel(img, cv2.CV_32F, 1, 0, ksize=1)\n",
    "gy = cv2.Sobel(img, cv2.CV_32F, 0, 1, ksize=1)\n",
    "mag, angle = cv2.cartToPolar(gx, gy, angleInDegrees=True)\n",
    "\n",
    "plt.subplot(121),plt.imshow(img,cmap = 'gray')\n",
    "plt.title('Gradient_x'), plt.xticks([]), plt.yticks([])\n",
    "plt.subplot(122),plt.imshow(img,cmap = 'gray')\n",
    "plt.title('Gradient_y'), plt.xticks([]), plt.yticks([])\n",
    "# plt.subplot(123),plt.imshow(img,cmap = 'gray')\n",
    "# plt.title('Gradient_xy'), plt.xticks([]), plt.yticks([])\n",
    "plt.show()"
   ]
  },
  {
   "cell_type": "markdown",
   "metadata": {},
   "source": [
    "Kết quả bước 2: \n",
    "\n",
    "![](https://www.learnopencv.com/wp-content/uploads/2016/11/gradients.png)\n",
    "\n",
    "\n",
    "Bước 3: "
   ]
  },
  {
   "cell_type": "markdown",
   "metadata": {},
   "source": [
    "3. Image hashing\n",
    "\n",
    "![](https://www.pyimagesearch.com/wp-content/uploads/2017/11/image_hashing_blueprint-768x229.png)"
   ]
  },
  {
   "cell_type": "markdown",
   "metadata": {},
   "source": [
    "Chúng ta nghe băm khá nhiều trong kiến thức liên quan đến bảo mật, các thuật toán mã hóa mật khẩu SHA, MD5 nhưng trong hình ảnh băm hình ảnh đảm bảo các yếu tố:\n",
    "\n",
    "+ Kiếm tra nội dung hình ảnh.\n",
    "+ Xây dựng một giá trị băm xác định duy nhất một hình ảnh đầu vào dựa trên nội dung của một hình ảnh. \n",
    "\n",
    "\n",
    "Tại sao không thể sử dụng hàm bằm trong mật khẩu như SHA, MD5 các thuật toán này cực kì nhạy cảm với thay đổi đôi khi sự thay đổi trên 1 pixel có thể khiến kết quả băm ra là khác nhau. Chẳng hạn một hình ảnh có kích thước 500px sau đó được tôi giảm size nó xuống còn 250px bản chất nội dung bên trong nó là không thay đổi, nhưng áp dụng thuật toán băm trên cho hai kết quả khác nhau.\n",
    "\n",
    "Chính lẻ đó băm cho hình ảnh là quá trình băm tri thức thuật toán đây sử dụng là dHash.\n",
    "\n",
    "Các thao tác để băm 1 hình ảnh:\n",
    "\n",
    "1. Chuyển ảnh đó về ảnh xám\n",
    "\n",
    "Mục đích điều này là để giảm khối lượng tính toán, chúng ta đang quan tâm đến nội dung bên trong bức ảnh nên việc đưa ảnh xác cũng giúp chúng ta hiểu hơn về "
   ]
  }
 ],
 "metadata": {
  "kernelspec": {
   "display_name": "Python 3",
   "language": "python",
   "name": "python3"
  },
  "language_info": {
   "codemirror_mode": {
    "name": "ipython",
    "version": 3
   },
   "file_extension": ".py",
   "mimetype": "text/x-python",
   "name": "python",
   "nbconvert_exporter": "python",
   "pygments_lexer": "ipython3",
   "version": "3.7.4"
  }
 },
 "nbformat": 4,
 "nbformat_minor": 4
}
