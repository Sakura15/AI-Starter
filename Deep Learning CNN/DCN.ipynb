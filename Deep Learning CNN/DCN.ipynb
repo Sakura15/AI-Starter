{
 "cells": [
  {
   "cell_type": "markdown",
   "metadata": {},
   "source": [
    "### What is the Deformable Convolutional Networks\n",
    "\n",
    "Trong mô hình hoạt động với tích chập thông thường các kernel dạng hình chữ nhật hay vuông size như 3x3 5x5 hay 7x7. Từ đó nó trích xuất các tính năng từ đầu vào hoặc bản đồ tính năng của các layer trước. Tuy nhiên trong vài trường hợp với ảnh có sự biến dạng, hay bị che chắn một phần thì MS đã đề xuất nên một lưới tích chập mới đó là DCN.\n",
    "\n",
    "Vậy lưới tích chập này khác gì với thông thường?\n",
    "\n",
    "* Yếu tố đầu tiên là: 2d deformable convolution\n",
    "\n",
    "Trong DCN , lưới có thể biến dạng theo nghĩa là mỗi điểm lưới được di chuyển bằng một độ lệch có thể học được. Và tích chập hoạt động trên các điểm lưới di chuyển này , do đó được gọi là tích chập biến dạng. Nhờ đó mà nó cải thiện hiệu suất mô hình  DeepLab , Faster R-CNN , R-FCN và FPN, v.v.\n",
    "\n",
    "![](https://miro.medium.com/max/1080/1*iNz1rJzA5RzdjZrT97VOhw.png)"
   ]
  },
  {
   "cell_type": "markdown",
   "metadata": {},
   "source": [
    "Trong hình trên: \n",
    "* (a) là tích chập thông thường.\n",
    "* (b) là phép biên dạng \n",
    "* (c) phép biến dạng tỉ lệ\n",
    "* (d) phép xoay"
   ]
  },
  {
   "cell_type": "markdown",
   "metadata": {},
   "source": [
    "Thông thường mặt nạ chỉ được áp dụng lên một khu vực đầu vào và dịch chuyển kernel lên toàn bộ đầu vào. Nhưng với DCN các kernel sẽ được chập với điểm khác nhau biến dạng quá trình tích chập, giúp học hỏi tốt hơn trong TH ảnh biến dạng. Ví dụ khi ảnh có kích thước tiêu chuẩn với tỉ lệ 2:1 hay 3:1 thì khi chúng ta đưa nó vào mạng VGG16 để phân loại thì ta đưa về kích thước đầu vào 224 x 224 tức tỉ lệ 1:1 ảnh có xuất hiện biến dạng. Vì vậy khi áp dụng DCN thì nó có thể tận dụng được sức mạnh của nó.\n",
    "\n",
    "![](https://miro.medium.com/max/1220/1*Mi6LqBIa8a4Ewo9DywHuzw.png)"
   ]
  },
  {
   "cell_type": "markdown",
   "metadata": {},
   "source": [
    "![](https://miro.medium.com/max/2000/1*06YpE_aFVQivZ5ACgv1qHA.png)\n",
    "\n",
    "Conv2D gồm 2 bước: \n",
    "\n",
    "1) lấy mẫu bằng cách sử dụng lưới R thông thường trên sơ đồ tính năng đầu vào x; 2) tổng các giá trị được lấy mẫu theo trọng số của w.\n",
    "\n",
    "R = {(−1, −1),(−1, 0), . . . ,(0, 1),(1, 1)} với phần đệm = 1.\n",
    "\n",
    "Trong quá trình tích chập một tham số được bù vào vị trí thể hiện sự biến đổi vị trí hay tìm theo sự biến dạng đối tượng.\n",
    "\n",
    "\n",
    "* Yếu tố thứ 2: deformable RoI pooling\n",
    "\n",
    "![](images/DRoi.png)\n",
    "\n",
    "Roi thông thường thực hiện trên lưới thông thường R. Còn D Roi thì nó sẽ thực hiện tương tự nhưng với từng vị trí được biến đổi đi một đoạn denta."
   ]
  },
  {
   "cell_type": "markdown",
   "metadata": {},
   "source": [
    "\n",
    "\n"
   ]
  },
  {
   "cell_type": "markdown",
   "metadata": {},
   "source": []
  },
  {
   "cell_type": "code",
   "execution_count": null,
   "metadata": {},
   "outputs": [],
   "source": []
  }
 ],
 "metadata": {
  "kernelspec": {
   "display_name": "Python 3",
   "language": "python",
   "name": "python3"
  },
  "language_info": {
   "codemirror_mode": {
    "name": "ipython",
    "version": 3
   },
   "file_extension": ".py",
   "mimetype": "text/x-python",
   "name": "python",
   "nbconvert_exporter": "python",
   "pygments_lexer": "ipython3",
   "version": "3.7.4"
  }
 },
 "nbformat": 4,
 "nbformat_minor": 4
}
