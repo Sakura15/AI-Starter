{
 "cells": [
  {
   "cell_type": "markdown",
   "metadata": {},
   "source": [
    "Trong bài này chúng ta khám phá dữ liệu date time\n",
    "\n",
    "### Vấn đề khi xử lí dữ liệu date time\n",
    "\n",
    "Ví dụ: \n",
    "    \n",
    "+ Ngày tháng năm, 12/10/1998\n",
    "+ Thời gian cụ thể: 12:58 am\n",
    "\n",
    "=> Loại này được gọi là:  Periodicity \n",
    "\n",
    "Nhưng đôi khi là dạng thời gian không rõ ràng mặt số liệu như:\n",
    "\n",
    "ngày hôm qua, ngày mai, 200 năm trước, từ hôm sinh nhật....\n",
    " \n",
    "=> Loại này là: Time Since"
   ]
  },
  {
   "cell_type": "markdown",
   "metadata": {},
   "source": [
    "Sự khác biệt thời gian được tính toán: time_feature_2 - time_feature_1.\n",
    "    \n",
    "* 1/1/2019 to 5/1/2019: diff_time = 4\n",
    "* 1/1/2019 to 1/1/2019: diff_time = 1\n",
    "    \n",
    "    "
   ]
  },
  {
   "cell_type": "markdown",
   "metadata": {},
   "source": [
    "Vì vậy khi tính toán đặc trưng thời gian ta tính toán dựa trên diff_time để xác định với việc xử dụng 1 mốc thời gian để xác định với các mốc thời gian khác.\n",
    "\n",
    "Ví dụ:\n",
    "Ta chọn hôm nay là ngày 27/3/2019 là mốc\n",
    "Hôm qua:\n",
    "\n",
    "Ta có diff_time = 1\n",
    "\n",
    "200 năm trước\n",
    "\n",
    "Ta có diff_time= 200*365\n",
    "\n",
    "Trên thực tế không rễ ràng để tính toán được như vậy nhưng nhìn chung sẽ quy về cách làm trên bằng mọi giá."
   ]
  },
  {
   "cell_type": "markdown",
   "metadata": {},
   "source": [
    "Tham khảo một bài viết xử lí chi tiết về datatime: https://towardsdatascience.com/machine-learning-with-datetime-feature-engineering-predicting-healthcare-appointment-no-shows-5e4ca3a85f96"
   ]
  },
  {
   "cell_type": "code",
   "execution_count": null,
   "metadata": {},
   "outputs": [],
   "source": []
  }
 ],
 "metadata": {
  "kernelspec": {
   "display_name": "Python 3",
   "language": "python",
   "name": "python3"
  },
  "language_info": {
   "codemirror_mode": {
    "name": "ipython",
    "version": 3
   },
   "file_extension": ".py",
   "mimetype": "text/x-python",
   "name": "python",
   "nbconvert_exporter": "python",
   "pygments_lexer": "ipython3",
   "version": "3.7.4"
  }
 },
 "nbformat": 4,
 "nbformat_minor": 4
}
